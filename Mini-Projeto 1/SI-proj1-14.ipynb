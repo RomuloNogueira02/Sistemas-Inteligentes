{
 "cells": [
  {
   "cell_type": "markdown",
   "id": "86eea868",
   "metadata": {},
   "source": [
    "# Sistemas Inteligentes 2021/2022\n",
    "\n",
    "## Mini-projeto 1: Pacman comilão\n",
    "\n",
    "<img src=\"pacman.png\" alt=\"Drawing\" style=\"width: 100px;\"/>"
   ]
  },
  {
   "cell_type": "markdown",
   "id": "fea2a0f4",
   "metadata": {},
   "source": [
    "## Grupo: 14\n",
    "\n",
    "### Elementos do Grupo\n",
    "\n",
    "Número: 55853    Nome: Madalena Rodrigues    \n",
    "Número: 56897    Nome: Pedro Almeida    \n",
    "Número: 56935    Nome: Rómulo Nogueira     "
   ]
  },
  {
   "cell_type": "markdown",
   "id": "815c7847",
   "metadata": {},
   "source": [
    "## Representação dos estados\n",
    "\n",
    "Definimos um classe **PacmanEstado**, para representar o estado, que contém dentro dela a informação que não é estática, ou seja os cinco atributos dinâmicos:\n",
    "* posicao: (x,y) correspondem às coordenadas do pacman em que, x é a linha e y a coluna;\n",
    "* pontuacao: n é a pontuação atual;\n",
    "* patilhas: (((x1,y1), T1), ((x2,y2), T2)...) - em que T é o tipo da pastilha\n",
    "* custos: ((x1,y1), (x2,y2), ... ,(xn,yn)) em que os tuplos são as coordenadas das casas já visitadas pelo pacman\n",
    "* t: tempo decorrido \n",
    "\n",
    "Estado inicial:\n",
    "* PacmanEstado.posicao -> (x,y) - coordenadas definidas pelo utilizador\n",
    "* PacmanEstado.pontuacao -> 0\n",
    "* PacmanEstado.pastilhas -> (((x1,y1), T1), ((x2,y2), T2)...) - em que T é o tipo da pastilha\n",
    "* PacmanEstado.custos -> ()\n",
    "* PacmanEstado.t -> 0\n",
    "\n",
    "Ações: [N,S,E,O] conforme a existência de obstáculos, em que:\n",
    "* N corresponde ao deslocamento (-1,0)\n",
    "* S corresponde ao deslocamento (1,0)\n",
    "* E corresponde ao deslocamento (0,1)\n",
    "* O corresponde ao deslocamento (0,-1)\n",
    "\n",
    "Sucessor: Nova localização do pacman. Caso coincida com uma pastilha atualiza a pontuação bem como o conjunto de casas visitadas e o instante t\n",
    "\n",
    "Teste de objetivo: PacmanEstado.pontuacao igual ao valor 'goal' definido pelo utilizador\n",
    "* goal_test((*, goal)) -> * = estado qualquer possível\n",
    "\n",
    "Foi também necessário redefinir o método **__equals__** bem como o **__hash__** para que fosse possível comparar os estados, por se tratarem de objetos.\n"
   ]
  },
  {
   "cell_type": "markdown",
   "id": "84e37b74",
   "metadata": {},
   "source": [
    "### *Exemplo de representação de um estado:*\n",
    "```\n",
    " =  =  =  =  =  =  =  =  =  = \n",
    " =  @  N  .  .  .  .  .  .  = \n",
    " =  .  =  =  =  =  =  =  .  = \n",
    " =  .  =  .  .  .  .  C  .  = \n",
    " =  .  =  .  .  .  .  .  .  = \n",
    " =  .  =  .  D  .  .  .  .  = \n",
    " =  .  =  .  .  .  .  .  .  = \n",
    " =  .  .  N  .  .  .  .  .  = \n",
    " =  .  .  .  .  .  .  .  .  = \n",
    " =  =  =  =  =  =  =  =  =  = \n",
    "```\n",
    "\n",
    "Estado: s1\n",
    "* s1.posicao = (1,1)\n",
    "* s1.pontuacao = 0\n",
    "* s1.pastilhas = (((1,2),N), ((7,3),N), ((5,4),D), ((3,7),C))\n",
    "* s1.custo = ((2,1),(3,1),(2,1),(1,1))\n",
    "* s1.t = 4\n",
    "\n",
    "\n",
    "Ações: [S,E]\n",
    "\n",
    "Possíveis sucessores: s2 e s2'\n",
    "- s2:\n",
    "    - s2.posicao = (2,1);\n",
    "    - s2.pontuacao = 0;\n",
    "    - s2.pastilhas = (((1,2),N), ((7,3),N), ((5,4),D), ((3,7),C));\n",
    "    - s2.custos = ((2,1),(3,1),(2,1),(1,1),(2,1));\n",
    "    - s2.t = 5.\n",
    "\n",
    "- s2':\n",
    "    - s2'.posicao = (1,2);\n",
    "    - s2'.pontuacao = 1;\n",
    "    - s2'.pastilhas = (((7,3),N), ((5,4),D), ((3,7),C));\n",
    "    - s2'.custos = ((2,1),(3,1),(2,1),(1,1),(1,2));\n",
    "    - s2'.t = 5.\n",
    "\n",
    "Considerámos ainda que a casa inicial não representa qualquer custo, e por isso, ao revisitá-la pela primeira vez tem custo de 1.\n"
   ]
  },
  {
   "cell_type": "markdown",
   "id": "b59eda52",
   "metadata": {},
   "source": [
    "## Formulação do problema\n",
    "\n",
    "Formulámos um problema de navegação, numa grelha 2D em que algumas células são obstáculos impassíveis e outras contém pastilhas que o Pacman deve \"comer\" de forma a ganhar pontos.\n",
    "\n",
    "No caso do nosso problema o objetivo é obter uma pontuação x, por isso na função **goal_test()** verificamos se  o objetivo foi atingido; as **actions()** serão as direções para onde o pacman se poderá mover, tendo em conta os obstáculos existentes; o **result()** devolve o estado atualizado, com a nova posição, pontuação atual, a lista de pastilhas que ainda existem no tabuleiro disponíveis, os custos e o tempo decorrido; por fim, o **path_cost()**, considera os custos associados à deslocação do pacman no tabuleiro, sendo que o custo de passar numa casa aumenta 1 a cada vez que esta é visitada."
   ]
  },
  {
   "cell_type": "markdown",
   "id": "33dc426b",
   "metadata": {},
   "source": [
    "##### *Algumas funções auxiliares utilizadas*:"
   ]
  },
  {
   "cell_type": "code",
   "execution_count": 1,
   "id": "6c9fe54b",
   "metadata": {},
   "outputs": [],
   "source": [
    "def line(x, y, dx, dy, length):\n",
    "    \"\"\"Uma linha de células de comprimento 'length' começando em (x, y) na direcção (dx, dy).\"\"\"\n",
    "    return {(x + i * dx, y + i * dy) for i in range(length)}\n",
    "\n",
    "def quadro(x, y, length):\n",
    "    \"\"\"Uma moldura quadrada de células de comprimento 'length' começando no topo esquerdo (x, y).\"\"\"\n",
    "    return line(x,y,0,1,length) | line(x+length-1,y,0,1,length) | line(x,y,1,0,length) | line(x,y+length-1,1,0,length)\n",
    "\n",
    "def exec(p,estado,accoes):\n",
    "    \"\"\"Executa uma sequência de acções numa lista, devolvendo o estado e custo resultantes da operação.\"\"\"\n",
    "    custo = 0\n",
    "    for a in accoes:\n",
    "        seg = p.result(estado,a)\n",
    "        custo = p.path_cost(custo,estado,a,seg)\n",
    "        estado = seg\n",
    "   \n",
    "    p.display(estado)\n",
    "    print('Custo:',custo)\n",
    "    print('Goal?',p.goal_test(estado))\n",
    "    print('Pontuação: ', estado.pontuacao)\n",
    "    return (estado,custo)"
   ]
  },
  {
   "cell_type": "code",
   "execution_count": 2,
   "id": "bb418fbe",
   "metadata": {},
   "outputs": [],
   "source": [
    "from searchPlus import *\n",
    "import timeit"
   ]
  },
  {
   "cell_type": "markdown",
   "id": "31edf587",
   "metadata": {},
   "source": [
    "##### *Definição da classe estado*:"
   ]
  },
  {
   "cell_type": "code",
   "execution_count": 3,
   "id": "cf902b44",
   "metadata": {},
   "outputs": [],
   "source": [
    "class PacmanEstado:\n",
    "    def __init__(self, posicao, pontuacao, pastilhas, custos, t):\n",
    "        \"\"\"O construtor especifica o estado inicial, constituído pela posição, \n",
    "        pontuação, pastinhas disponíveis, custo e tempo gasto\"\"\"\n",
    "        self.posicao = posicao\n",
    "        self.pontuacao = pontuacao\n",
    "        self.pastilhas = pastilhas\n",
    "        self.custos = custos\n",
    "        self.t = t\n",
    "\n",
    "    def __eq__(self, other):\n",
    "        \"\"\"Define em que circunstâncias os dois estados são considerados iguais.\n",
    "        Necessário para os algoritmos de procura em grafo.\n",
    "        \"\"\"\n",
    "        return self.posicao == other.posicao and \\\n",
    "            self.pastilhas == other.pastilhas and \\\n",
    "            self.pontuacao == other.pontuacao and \\\n",
    "            self.custos == other.custos and \\\n",
    "            self.t == other.t\n",
    "\n",
    "    def __hash__(self):\n",
    "        \"\"\"Retorna valores inteiros a objetos\"\"\"\n",
    "        return hash(self.posicao) ^ hash(self.pontuacao) ^ hash(self.pastilhas) ^ hash(self.custos) ^ hash(self.t)\n",
    "            \n",
    "    def __str__(self): \n",
    "        \"\"\"Retorna a representação dos objetos em forma de string\"\"\"\n",
    "        return f\"estado: posição: {self.posicao}, pontuacao: {self.pontuacao}\"\n",
    "\n",
    "    def __repr__(self):\n",
    "        \"\"\"Neste caso não existe interesse em retornar diferntes outputs\n",
    "        que na função __str__, por isso __repr__ chama a função __str__\"\"\"\n",
    "        return str(self)\n",
    "\n",
    "    def __lt__(self, other):\n",
    "        \"\"\"Faz a comparação de estados para o algoritmo do custo uniforme\"\"\"\n",
    "        return True"
   ]
  },
  {
   "cell_type": "code",
   "execution_count": 5,
   "id": "6fab7f22",
   "metadata": {},
   "outputs": [],
   "source": [
    "class PacmanPastilhas(Problem):\n",
    "\n",
    "    def __init__(self, pacman=(1,1), goal=1, pastilhas=(), obstacles=quadro(0,0,10) | line(2,2,1,0,5) | line(2,3,0,1,5), dim=10):\n",
    "        \"\"\"Construtor da classe, que acede aos dados da classe Problem e \n",
    "        adiciona os parâmetros correspondentes aos obstáculos e à dimensão \n",
    "        do tabuleiro, que podem ou não ser fornecidos pelo utilizadr.\"\"\"\n",
    "        super().__init__(PacmanEstado(pacman, 0, pastilhas, (), 0), goal)\n",
    "        self.obstacles = obstacles\n",
    "        self.dim = dim\n",
    "\n",
    "    def actions(self, state):\n",
    "        \"\"\"As acções executáveis neste estado.\"\"\"\n",
    "        res = []\n",
    "        moves = [('N',(-1,0)),('S',(1,0)),('O',(0,-1)),('E',(0,1))]\n",
    "        for m in moves:\n",
    "            novaPos = (state.posicao[0] + m[1][0], state.posicao[1] + m[1][1])\n",
    "            if novaPos not in self.obstacles:\n",
    "                res.append(m[0])\n",
    "        return res\n",
    "\n",
    "    def result(self, state, action):\n",
    "        \"\"\"Aplica a acção ao estado\"\"\"\n",
    "        # calcular nova posicao\n",
    "        anterior_posicao = state.posicao\n",
    "        nova_posicao = ()\n",
    "        \n",
    "        if action == 'N':\n",
    "            nova_posicao = (anterior_posicao[0] - 1, anterior_posicao[1])\n",
    "        elif action == 'S':\n",
    "            nova_posicao = (anterior_posicao[0] + 1, anterior_posicao[1])\n",
    "        elif action == 'O':\n",
    "            nova_posicao = (anterior_posicao[0], anterior_posicao[1] - 1)\n",
    "        elif action == 'E':\n",
    "            nova_posicao = (anterior_posicao[0], anterior_posicao[1]  + 1)\n",
    "\n",
    "        # calculo do novo instante t\n",
    "        novo_t = state.t + 1\n",
    "\n",
    "        # calcular pontucao / remover pastilhas\n",
    "        nova_pontuacao = state.pontuacao\n",
    "        novas_pastilhas = list(state.pastilhas)\n",
    "        posicoes_pastilhas = list(map(lambda l : l[0] , state.pastilhas))\n",
    "        \n",
    "        if nova_posicao in posicoes_pastilhas:\n",
    "            i = posicoes_pastilhas.index(nova_posicao)\n",
    "            pastilha = novas_pastilhas.pop(i)[1]\n",
    "\n",
    "            if pastilha == \"N\":\n",
    "                nova_pontuacao += 1\n",
    "            elif pastilha == \"D\":\n",
    "                nova_pontuacao += max(0, 5-novo_t)\n",
    "            elif pastilha == \"C\":\n",
    "                nova_pontuacao += novo_t\n",
    "\n",
    "        # atualizar o custo\n",
    "        novos_custos = list(state.custos)\n",
    "        novos_custos.append(nova_posicao)\n",
    "        \n",
    "        return PacmanEstado(nova_posicao, nova_pontuacao, tuple(novas_pastilhas), tuple(novos_custos), novo_t)\n",
    "\n",
    "    def goal_test(self, state):\n",
    "        \"\"\"Verifica se o objetivo (goal) foi atingido e retorna o resultado\n",
    "        dessa verificação\"\"\"\n",
    "        return state.pontuacao >= self.goal\n",
    "    \n",
    "\n",
    "    def path_cost(self, c, state1, action, state2):\n",
    "        \"\"\"Retorna o custo de um caminho de solução que chega ao state2 vindo de\n",
    "        state1 depois da ação, assumindo custo c para chegar até state1. Se para o \n",
    "        problema o caminho não importar, esta função irá apenas olhar para state2. \n",
    "        Se o caminho importar, irá considerar c e talvez state1 e ação.\"\"\"\n",
    "        novo_custo = state2.custos.count(state2.posicao)\n",
    "        return c + novo_custo\n",
    "\n",
    "    def display(self, state):\n",
    "        \"\"\"Faz print do estado atual\"\"\"\n",
    "        sort_obs = sorted(self.obstacles)\n",
    "        posicoes_pastilhas = list(map(lambda l : l[0] , state.pastilhas))\n",
    "        \n",
    "        for x in range(self.dim):\n",
    "            for y in range(self.dim):\n",
    "                if (x,y) in sort_obs:\n",
    "                    print(\" = \", end='')\n",
    "                elif (x,y) in posicoes_pastilhas:\n",
    "                    i = posicoes_pastilhas.index((x,y))\n",
    "                    print(\" \" + state.pastilhas[i][1] + \" \", end='')\n",
    "                elif (x,y) == state.posicao:\n",
    "                    print(\" @ \", end='')\n",
    "                else:\n",
    "                    print(' . ', end='')\n",
    "            print('')\n",
    "\n",
    "    def display_trace(self,d,plan):\n",
    "        \"\"\"Faz print do caminho que o Pacman percorreu até atingir o seu estado final\"\"\"\n",
    "        path = []\n",
    "        st = self.initial\n",
    "        pastilhas = ()\n",
    "\n",
    "        for a in plan:\n",
    "            st = self.result(st,a)\n",
    "            path.append(st.posicao)\n",
    "            pastilhas = st.pastilhas\n",
    "        \n",
    "        sort_obs = sorted(self.obstacles)\n",
    "        posicoes_pastilhas = list(map(lambda l : l[0] , pastilhas))\n",
    "        path = list(dict.fromkeys(path))\n",
    "       \n",
    "        for i in range(d):\n",
    "            for j in range(d):\n",
    "                if self.initial.posicao ==(i,j):\n",
    "                    print(\" @ \", end='')\n",
    "\n",
    "                elif (i,j) == path[-1]:\n",
    "                    print(\" * \", end='')\n",
    "\n",
    "                elif (i,j) in sort_obs:\n",
    "                    print(\" = \", end='')\n",
    "\n",
    "                elif (i,j) in posicoes_pastilhas:\n",
    "                    g = posicoes_pastilhas.index((i,j))\n",
    "                    print(\" \" + pastilhas[g][1] + \" \", end ='')\n",
    "\n",
    "                elif (i,j) in path:\n",
    "                    print(\" + \", end='')\n",
    "\n",
    "                else:\n",
    "                    print(\" . \", end='')\n",
    "            print('')"
   ]
  },
  {
   "cell_type": "markdown",
   "id": "41cb9f86",
   "metadata": {},
   "source": [
    "## Criação de estados e do problema\n",
    "\n",
    "Criamos um mundo cercado 10 x 10, em que o Pacman começa na posição (5,1) e temos pastilhas nas posições: \n",
    "* Normais: (3,7), (7,1)\n",
    "* Crescimento: (1,6), (7,3)\n",
    "* Desgaste: (8,2)\n",
    "\n",
    "E o objetivo de atingir uma pontuação de 7 pontos"
   ]
  },
  {
   "cell_type": "code",
   "execution_count": 6,
   "id": "6b74c09a",
   "metadata": {},
   "outputs": [
    {
     "name": "stdout",
     "output_type": "stream",
     "text": [
      "O estado inicialmente encontra-se da seguinte forma:  estado: posição: (5, 1), pontuacao: 0\n",
      " =  =  =  =  =  =  =  =  =  = \n",
      " =  .  .  .  .  .  C  .  .  = \n",
      " =  .  =  =  =  =  =  =  .  = \n",
      " =  .  =  .  .  .  .  N  .  = \n",
      " =  .  =  .  .  .  .  .  .  = \n",
      " =  @  =  .  .  .  .  .  .  = \n",
      " =  .  =  .  .  .  .  .  .  = \n",
      " =  N  .  C  .  .  .  .  .  = \n",
      " =  .  D  .  .  .  .  .  .  = \n",
      " =  =  =  =  =  =  =  =  =  = \n",
      "O objetivo é a atingir a pontuação de : 7 pontos\n",
      "Começa com o custo de :  0\n",
      "Corresponde ao estado final?  False\n",
      "As ações possíveis são:  ['N', 'S']\n"
     ]
    }
   ],
   "source": [
    "l = line(2,2,1,0,5) \n",
    "c = line(2,3,0,1,5)\n",
    "fronteira = quadro(0,0,10)\n",
    "pastilhas = (((1,6), \"C\"), \n",
    "             ((3,7), \"N\"),\n",
    "             ((8,2), \"D\"),\n",
    "             ((7,3), \"C\"),\n",
    "             ((7,1), \"N\"))\n",
    "\n",
    "\n",
    "p1 = PacmanPastilhas(pacman= (5,1) ,goal= 7, pastilhas=pastilhas)\n",
    "custo = 0\n",
    "print(\"O estado inicialmente encontra-se da seguinte forma: \", p1.initial)\n",
    "p1.display(p1.initial)\n",
    "print(\"O objetivo é a atingir a pontuação de : \" + str(p1.goal) + \" pontos\")\n",
    "print(\"Começa com o custo de : \", custo)\n",
    "print(\"Corresponde ao estado final? \", p1.goal_test(p1.initial))\n",
    "print(\"As ações possíveis são: \", p1.actions(p1.initial))"
   ]
  },
  {
   "cell_type": "markdown",
   "id": "6e75e29f",
   "metadata": {},
   "source": [
    "Em seguida vemos então uma primeira iteração, em que o Pacman se desloca para baixo (S)"
   ]
  },
  {
   "cell_type": "code",
   "execution_count": 7,
   "id": "99138662",
   "metadata": {},
   "outputs": [
    {
     "name": "stdout",
     "output_type": "stream",
     "text": [
      "Aplicando a ação 'S' ficamos com o estado: posição: (6, 1), pontuacao: 0\n",
      " =  =  =  =  =  =  =  =  =  = \n",
      " =  .  .  .  .  .  C  .  .  = \n",
      " =  .  =  =  =  =  =  =  .  = \n",
      " =  .  =  .  .  .  .  N  .  = \n",
      " =  .  =  .  .  .  .  .  .  = \n",
      " =  .  =  .  .  .  .  .  .  = \n",
      " =  @  =  .  .  .  .  .  .  = \n",
      " =  N  .  C  .  .  .  .  .  = \n",
      " =  .  D  .  .  .  .  .  .  = \n",
      " =  =  =  =  =  =  =  =  =  = \n",
      "Com o custo de :  1\n",
      "Corresponde ao estado final?  False\n",
      "As ações possíveis são:  ['N', 'S']\n"
     ]
    }
   ],
   "source": [
    "# Iter1\n",
    "s1 = p1.result(p1.initial, \"S\")\n",
    "print(\"Aplicando a ação 'S' ficamos com o\", s1)\n",
    "p1.display(s1)\n",
    "custo = p1.path_cost(custo, p1.initial, \"S\", s1)\n",
    "print(\"Com o custo de : \", custo)\n",
    "print(\"Corresponde ao estado final? \", p1.goal_test(s1))\n",
    "print(\"As ações possíveis são: \", p1.actions(s1))"
   ]
  },
  {
   "cell_type": "markdown",
   "id": "9e75ebe1",
   "metadata": {},
   "source": [
    "Na segunda iteração, o Pacman desloca-se novamente para baixo (S) apanhando a pastilha que se encontra em (7,1)"
   ]
  },
  {
   "cell_type": "code",
   "execution_count": 8,
   "id": "e50145c2",
   "metadata": {},
   "outputs": [
    {
     "name": "stdout",
     "output_type": "stream",
     "text": [
      "\n",
      "Aplicando a ação 'S' ficamos com o estado: posição: (7, 1), pontuacao: 1\n",
      " =  =  =  =  =  =  =  =  =  = \n",
      " =  .  .  .  .  .  C  .  .  = \n",
      " =  .  =  =  =  =  =  =  .  = \n",
      " =  .  =  .  .  .  .  N  .  = \n",
      " =  .  =  .  .  .  .  .  .  = \n",
      " =  .  =  .  .  .  .  .  .  = \n",
      " =  .  =  .  .  .  .  .  .  = \n",
      " =  @  .  C  .  .  .  .  .  = \n",
      " =  .  D  .  .  .  .  .  .  = \n",
      " =  =  =  =  =  =  =  =  =  = \n",
      "Com o custo de :  2\n",
      "Corresponde ao estado final?  False\n",
      "As ações possíveis são:  ['N', 'S', 'E']\n"
     ]
    }
   ],
   "source": [
    "# Iter2\n",
    "print()\n",
    "\n",
    "s2 = p1.result(s1, \"S\")\n",
    "print(\"Aplicando a ação 'S' ficamos com o\", s2)\n",
    "p1.display(s2)\n",
    "custo = p1.path_cost(custo, s1, \"S\", s2)\n",
    "print(\"Com o custo de : \", custo)\n",
    "print(\"Corresponde ao estado final? \", p1.goal_test(s2))\n",
    "print(\"As ações possíveis são: \", p1.actions(s2))"
   ]
  },
  {
   "cell_type": "markdown",
   "id": "df8ea73b",
   "metadata": {},
   "source": [
    "Na terceira iteração, o Pacman desloca-se para a direita (E)"
   ]
  },
  {
   "cell_type": "code",
   "execution_count": 9,
   "id": "c03081bf",
   "metadata": {},
   "outputs": [
    {
     "name": "stdout",
     "output_type": "stream",
     "text": [
      "\n",
      "Aplicando a ação 'E' ficamos com o : estado: posição: (7, 2), pontuacao: 1\n",
      " =  =  =  =  =  =  =  =  =  = \n",
      " =  .  .  .  .  .  C  .  .  = \n",
      " =  .  =  =  =  =  =  =  .  = \n",
      " =  .  =  .  .  .  .  N  .  = \n",
      " =  .  =  .  .  .  .  .  .  = \n",
      " =  .  =  .  .  .  .  .  .  = \n",
      " =  .  =  .  .  .  .  .  .  = \n",
      " =  .  @  C  .  .  .  .  .  = \n",
      " =  .  D  .  .  .  .  .  .  = \n",
      " =  =  =  =  =  =  =  =  =  = \n",
      "Com o custo de :  3\n",
      "Corresponde ao estado final?  False\n",
      "As ações possíveis são:  ['S', 'O', 'E']\n"
     ]
    }
   ],
   "source": [
    "# Iter3\n",
    "print()\n",
    "\n",
    "s3 = p1.result(s2, \"E\")\n",
    "print(\"Aplicando a ação 'E' ficamos com o :\", s3)\n",
    "p1.display(s3)\n",
    "custo = p1.path_cost(custo, s2, \"E\", s3)\n",
    "print(\"Com o custo de : \", custo)\n",
    "print(\"Corresponde ao estado final? \", p1.goal_test(s3))\n",
    "print(\"As ações possíveis são: \", p1.actions(s3))"
   ]
  },
  {
   "cell_type": "markdown",
   "id": "390b8bac",
   "metadata": {},
   "source": [
    "Na quarta iteração, o Pacman desloca-se para a baixo (S) apanhando a pastilha que se encontra em (8,2)"
   ]
  },
  {
   "cell_type": "code",
   "execution_count": 10,
   "id": "e1653ae7",
   "metadata": {},
   "outputs": [
    {
     "name": "stdout",
     "output_type": "stream",
     "text": [
      "\n",
      "Aplicando a ação 'S' ficamos com o: estado: posição: (8, 2), pontuacao: 2\n",
      " =  =  =  =  =  =  =  =  =  = \n",
      " =  .  .  .  .  .  C  .  .  = \n",
      " =  .  =  =  =  =  =  =  .  = \n",
      " =  .  =  .  .  .  .  N  .  = \n",
      " =  .  =  .  .  .  .  .  .  = \n",
      " =  .  =  .  .  .  .  .  .  = \n",
      " =  .  =  .  .  .  .  .  .  = \n",
      " =  .  .  C  .  .  .  .  .  = \n",
      " =  .  @  .  .  .  .  .  .  = \n",
      " =  =  =  =  =  =  =  =  =  = \n",
      "Com o custo de :  4\n",
      "Corresponde ao estado final?  False\n",
      "As ações possíveis são:  ['N', 'O', 'E']\n"
     ]
    }
   ],
   "source": [
    "# Iter4\n",
    "print()\n",
    "\n",
    "s4 = p1.result(s3, \"S\")\n",
    "print(\"Aplicando a ação 'S' ficamos com o:\", s4)\n",
    "p1.display(s4)\n",
    "custo = p1.path_cost(custo, s3, \"S\", s4)\n",
    "print(\"Com o custo de : \", custo)\n",
    "print(\"Corresponde ao estado final? \", p1.goal_test(s4))\n",
    "print(\"As ações possíveis são: \", p1.actions(s4))"
   ]
  },
  {
   "cell_type": "markdown",
   "id": "bd07eb31",
   "metadata": {},
   "source": [
    "Na quinta iteração, o Pacman desloca-se para a cima (N) "
   ]
  },
  {
   "cell_type": "code",
   "execution_count": 11,
   "id": "c6893752",
   "metadata": {},
   "outputs": [
    {
     "name": "stdout",
     "output_type": "stream",
     "text": [
      "\n",
      "Aplicando a ação 'N' ficamos com o: estado: posição: (7, 2), pontuacao: 2\n",
      " =  =  =  =  =  =  =  =  =  = \n",
      " =  .  .  .  .  .  C  .  .  = \n",
      " =  .  =  =  =  =  =  =  .  = \n",
      " =  .  =  .  .  .  .  N  .  = \n",
      " =  .  =  .  .  .  .  .  .  = \n",
      " =  .  =  .  .  .  .  .  .  = \n",
      " =  .  =  .  .  .  .  .  .  = \n",
      " =  .  @  C  .  .  .  .  .  = \n",
      " =  .  .  .  .  .  .  .  .  = \n",
      " =  =  =  =  =  =  =  =  =  = \n",
      "Com o custo de :  6\n",
      "Corresponde ao estado final?  False\n",
      "As ações possíveis são:  ['S', 'O', 'E']\n"
     ]
    }
   ],
   "source": [
    "# Iter5\n",
    "print()\n",
    "\n",
    "s5 = p1.result(s4, \"N\")\n",
    "print(\"Aplicando a ação 'N' ficamos com o:\", s5)\n",
    "p1.display(s5)\n",
    "custo = p1.path_cost(custo, s4, \"S\", s5)\n",
    "print(\"Com o custo de : \", custo)\n",
    "print(\"Corresponde ao estado final? \", p1.goal_test(s5))\n",
    "print(\"As ações possíveis são: \", p1.actions(s5))"
   ]
  },
  {
   "cell_type": "markdown",
   "id": "076a0d35",
   "metadata": {},
   "source": [
    "Na sexta e última iteração, o Pacman desloca-se para a direita (E), apanhando a última pastilha que precisa para atingir o objetivo em (7,4)"
   ]
  },
  {
   "cell_type": "code",
   "execution_count": 12,
   "id": "d9eeff09",
   "metadata": {},
   "outputs": [
    {
     "name": "stdout",
     "output_type": "stream",
     "text": [
      "\n",
      "Aplicando a ação 'E' ficamos com o: estado: posição: (7, 3), pontuacao: 8\n",
      " =  =  =  =  =  =  =  =  =  = \n",
      " =  .  .  .  .  .  C  .  .  = \n",
      " =  .  =  =  =  =  =  =  .  = \n",
      " =  .  =  .  .  .  .  N  .  = \n",
      " =  .  =  .  .  .  .  .  .  = \n",
      " =  .  =  .  .  .  .  .  .  = \n",
      " =  .  =  .  .  .  .  .  .  = \n",
      " =  .  .  @  .  .  .  .  .  = \n",
      " =  .  .  .  .  .  .  .  .  = \n",
      " =  =  =  =  =  =  =  =  =  = \n",
      "Com o custo de :  7\n",
      "Corresponde ao estado final?  True\n"
     ]
    }
   ],
   "source": [
    "# Iter6\n",
    "print()\n",
    "\n",
    "s6 = p1.result(s5, \"E\")\n",
    "print(\"Aplicando a ação 'E' ficamos com o:\", s6)\n",
    "p1.display(s6)\n",
    "custo = p1.path_cost(custo, s5, \"E\", s6)\n",
    "print(\"Com o custo de : \", custo)\n",
    "print(\"Corresponde ao estado final? \", p1.goal_test(s6))"
   ]
  },
  {
   "cell_type": "markdown",
   "id": "b93a025c",
   "metadata": {},
   "source": [
    "#### Exemplo de execução com o a função exec()"
   ]
  },
  {
   "cell_type": "code",
   "execution_count": 13,
   "id": "433a037d",
   "metadata": {},
   "outputs": [
    {
     "name": "stdout",
     "output_type": "stream",
     "text": [
      "Estado inicial:\n",
      " =  =  =  =  =  =  =  =  =  = \n",
      " =  @  N  .  .  .  .  .  .  = \n",
      " =  .  =  =  =  =  =  =  .  = \n",
      " =  .  =  .  .  .  .  C  .  = \n",
      " =  .  =  .  .  .  .  .  .  = \n",
      " =  .  =  .  D  .  .  .  .  = \n",
      " =  .  =  .  .  .  .  .  .  = \n",
      " =  .  .  N  .  .  .  .  .  = \n",
      " =  .  .  .  .  .  .  .  D  = \n",
      " =  =  =  =  =  =  =  =  =  = \n",
      "Estado final:\n",
      " =  =  =  =  =  =  =  =  =  = \n",
      " =  .  .  .  .  .  .  .  .  = \n",
      " =  .  =  =  =  =  =  =  .  = \n",
      " =  .  =  .  .  .  .  C  .  = \n",
      " =  .  =  .  .  .  .  .  .  = \n",
      " =  .  =  .  D  .  .  .  .  = \n",
      " =  .  =  .  .  .  .  .  .  = \n",
      " =  .  .  @  .  .  .  .  .  = \n",
      " =  .  .  .  .  .  .  .  D  = \n",
      " =  =  =  =  =  =  =  =  =  = \n",
      "Custo: 14\n",
      "Goal? True\n",
      "Pontuação:  2\n"
     ]
    },
    {
     "data": {
      "text/plain": [
       "(estado: posição: (7, 3), pontuacao: 2, 14)"
      ]
     },
     "execution_count": 13,
     "metadata": {},
     "output_type": "execute_result"
    }
   ],
   "source": [
    "l = line(2,2,1,0,5) \n",
    "c = line(2,3,0,1,5)\n",
    "fronteira = quadro(0,0,10)\n",
    "pastilhas = (((1,2),\"N\"), \n",
    "             ((3,7),\"C\"),\n",
    "             ((5,4),\"D\"),\n",
    "             ((7,3),\"N\"),\n",
    "             ((8,8),\"D\"))\n",
    "\n",
    "p2 = PacmanPastilhas(pacman=(1,1),goal=2,pastilhas=pastilhas,obstacles=fronteira | l | c ,dim=10)\n",
    "print(\"Estado inicial:\")\n",
    "p2.display(p2.initial)\n",
    "print(\"Estado final:\")\n",
    "exec(p2, p2.initial, ['S', 'N', 'E', 'O', 'S', 'S', 'S', 'S', 'S', 'S' ,'E', 'E'])"
   ]
  },
  {
   "cell_type": "markdown",
   "id": "817a50d4",
   "metadata": {},
   "source": [
    "## Teste de procura de solução\n",
    "Vamos testar a procura de uma solução no seguinte problema:"
   ]
  },
  {
   "cell_type": "code",
   "execution_count": 14,
   "id": "d2a2f66a",
   "metadata": {},
   "outputs": [
    {
     "name": "stdout",
     "output_type": "stream",
     "text": [
      " =  =  =  =  =  =  =  =  =  = \n",
      " =  @  N  .  .  .  .  .  .  = \n",
      " =  .  =  =  =  =  =  =  .  = \n",
      " =  .  =  .  .  .  .  C  .  = \n",
      " =  .  =  .  .  .  .  .  .  = \n",
      " =  .  =  .  C  .  .  .  .  = \n",
      " =  .  =  .  .  .  .  .  .  = \n",
      " =  .  .  N  .  .  .  .  .  = \n",
      " =  .  .  .  .  .  .  .  D  = \n",
      " =  =  =  =  =  =  =  =  =  = \n"
     ]
    }
   ],
   "source": [
    "l = line(2,2,1,0,5) \n",
    "c = line(2,3,0,1,5)\n",
    "fronteira = quadro(0,0,10)\n",
    "\n",
    "pastilhas = (((1,2),\"N\"), \n",
    "             ((3,7),\"C\"),\n",
    "             ((5,4),\"C\"),\n",
    "             ((7,3),\"N\"),\n",
    "             ((8,8),\"D\"))\n",
    "\n",
    "p = PacmanPastilhas(pacman=(1,1),goal=12,pastilhas=pastilhas,obstacles=fronteira | l | c ,dim=10)\n",
    "p.display(p.initial)"
   ]
  },
  {
   "cell_type": "markdown",
   "id": "608c5ae4",
   "metadata": {},
   "source": [
    "### Profundidade Primeiro\n",
    "\n",
    "#### Em ávore:"
   ]
  },
  {
   "cell_type": "code",
   "execution_count": 15,
   "id": "eb0f57ae",
   "metadata": {},
   "outputs": [],
   "source": [
    "def depth_first_tree_search(problem):\n",
    "    \"\"\"Search the deepest nodes in the search tree first.\"\"\"\n",
    "    return tree_search(problem, Stack())"
   ]
  },
  {
   "cell_type": "code",
   "execution_count": 16,
   "id": "65538aa6",
   "metadata": {},
   "outputs": [
    {
     "ename": "KeyboardInterrupt",
     "evalue": "",
     "output_type": "error",
     "traceback": [
      "\u001b[1;31m---------------------------------------------------------------------------\u001b[0m",
      "\u001b[1;31mKeyboardInterrupt\u001b[0m                         Traceback (most recent call last)",
      "\u001b[1;32m<ipython-input-16-cba27e443c45>\u001b[0m in \u001b[0;36m<module>\u001b[1;34m\u001b[0m\n\u001b[0;32m      1\u001b[0m \u001b[0mstart\u001b[0m \u001b[1;33m=\u001b[0m \u001b[0mtimeit\u001b[0m\u001b[1;33m.\u001b[0m\u001b[0mdefault_timer\u001b[0m\u001b[1;33m(\u001b[0m\u001b[1;33m)\u001b[0m\u001b[1;33m\u001b[0m\u001b[1;33m\u001b[0m\u001b[0m\n\u001b[1;32m----> 2\u001b[1;33m \u001b[0mresultado\u001b[0m  \u001b[1;33m=\u001b[0m \u001b[0mdepth_first_tree_search\u001b[0m\u001b[1;33m(\u001b[0m\u001b[0mp\u001b[0m\u001b[1;33m)\u001b[0m\u001b[1;33m\u001b[0m\u001b[1;33m\u001b[0m\u001b[0m\n\u001b[0m\u001b[0;32m      3\u001b[0m \u001b[0mprint\u001b[0m\u001b[1;33m(\u001b[0m\u001b[1;34m\"Solução Profundidade-primeiro (árvore) com custo\"\u001b[0m\u001b[1;33m,\u001b[0m \u001b[0mstr\u001b[0m\u001b[1;33m(\u001b[0m\u001b[0mresultado\u001b[0m\u001b[1;33m.\u001b[0m\u001b[0mpath_cost\u001b[0m\u001b[1;33m)\u001b[0m\u001b[1;33m+\u001b[0m\u001b[1;34m\":\"\u001b[0m\u001b[1;33m)\u001b[0m\u001b[1;33m\u001b[0m\u001b[1;33m\u001b[0m\u001b[0m\n\u001b[0;32m      4\u001b[0m \u001b[0mprint\u001b[0m\u001b[1;33m(\u001b[0m\u001b[0mresultado\u001b[0m\u001b[1;33m.\u001b[0m\u001b[0msolution\u001b[0m\u001b[1;33m(\u001b[0m\u001b[1;33m)\u001b[0m\u001b[1;33m)\u001b[0m\u001b[1;33m\u001b[0m\u001b[1;33m\u001b[0m\u001b[0m\n\u001b[0;32m      5\u001b[0m \u001b[0mstop\u001b[0m \u001b[1;33m=\u001b[0m \u001b[0mtimeit\u001b[0m\u001b[1;33m.\u001b[0m\u001b[0mdefault_timer\u001b[0m\u001b[1;33m(\u001b[0m\u001b[1;33m)\u001b[0m\u001b[1;33m\u001b[0m\u001b[1;33m\u001b[0m\u001b[0m\n",
      "\u001b[1;32m<ipython-input-15-840060708fee>\u001b[0m in \u001b[0;36mdepth_first_tree_search\u001b[1;34m(problem)\u001b[0m\n\u001b[0;32m      1\u001b[0m \u001b[1;32mdef\u001b[0m \u001b[0mdepth_first_tree_search\u001b[0m\u001b[1;33m(\u001b[0m\u001b[0mproblem\u001b[0m\u001b[1;33m)\u001b[0m\u001b[1;33m:\u001b[0m\u001b[1;33m\u001b[0m\u001b[1;33m\u001b[0m\u001b[0m\n\u001b[0;32m      2\u001b[0m     \u001b[1;34m\"\"\"Search the deepest nodes in the search tree first.\"\"\"\u001b[0m\u001b[1;33m\u001b[0m\u001b[1;33m\u001b[0m\u001b[0m\n\u001b[1;32m----> 3\u001b[1;33m     \u001b[1;32mreturn\u001b[0m \u001b[0mtree_search\u001b[0m\u001b[1;33m(\u001b[0m\u001b[0mproblem\u001b[0m\u001b[1;33m,\u001b[0m \u001b[0mStack\u001b[0m\u001b[1;33m(\u001b[0m\u001b[1;33m)\u001b[0m\u001b[1;33m)\u001b[0m\u001b[1;33m\u001b[0m\u001b[1;33m\u001b[0m\u001b[0m\n\u001b[0m",
      "\u001b[1;32mc:\\Users\\Madalena\\Desktop\\SI_P1_FINAL\\SI_P1_FINAL (1)\\SI_P1_FINAL\\searchPlus.py\u001b[0m in \u001b[0;36mtree_search\u001b[1;34m(problem, frontier)\u001b[0m\n\u001b[0;32m    188\u001b[0m         \u001b[1;32mif\u001b[0m \u001b[0mproblem\u001b[0m\u001b[1;33m.\u001b[0m\u001b[0mgoal_test\u001b[0m\u001b[1;33m(\u001b[0m\u001b[0mnode\u001b[0m\u001b[1;33m.\u001b[0m\u001b[0mstate\u001b[0m\u001b[1;33m)\u001b[0m\u001b[1;33m:\u001b[0m\u001b[1;33m\u001b[0m\u001b[1;33m\u001b[0m\u001b[0m\n\u001b[0;32m    189\u001b[0m             \u001b[1;32mreturn\u001b[0m \u001b[0mnode\u001b[0m\u001b[1;33m\u001b[0m\u001b[1;33m\u001b[0m\u001b[0m\n\u001b[1;32m--> 190\u001b[1;33m         \u001b[0mfrontier\u001b[0m\u001b[1;33m.\u001b[0m\u001b[0mextend\u001b[0m\u001b[1;33m(\u001b[0m\u001b[0mnode\u001b[0m\u001b[1;33m.\u001b[0m\u001b[0mexpand\u001b[0m\u001b[1;33m(\u001b[0m\u001b[0mproblem\u001b[0m\u001b[1;33m)\u001b[0m\u001b[1;33m)\u001b[0m\u001b[1;33m\u001b[0m\u001b[1;33m\u001b[0m\u001b[0m\n\u001b[0m\u001b[0;32m    191\u001b[0m     \u001b[1;32mreturn\u001b[0m \u001b[1;32mNone\u001b[0m\u001b[1;33m\u001b[0m\u001b[1;33m\u001b[0m\u001b[0m\n\u001b[0;32m    192\u001b[0m \u001b[1;33m\u001b[0m\u001b[0m\n",
      "\u001b[1;32mc:\\Users\\Madalena\\Desktop\\SI_P1_FINAL\\SI_P1_FINAL (1)\\SI_P1_FINAL\\searchPlus.py\u001b[0m in \u001b[0;36mexpand\u001b[1;34m(self, problem)\u001b[0m\n\u001b[0;32m    104\u001b[0m     \u001b[1;32mdef\u001b[0m \u001b[0mexpand\u001b[0m\u001b[1;33m(\u001b[0m\u001b[0mself\u001b[0m\u001b[1;33m,\u001b[0m \u001b[0mproblem\u001b[0m\u001b[1;33m)\u001b[0m\u001b[1;33m:\u001b[0m\u001b[1;33m\u001b[0m\u001b[1;33m\u001b[0m\u001b[0m\n\u001b[0;32m    105\u001b[0m         \u001b[1;34m\"\"\"List the nodes reachable in one step from this node.\"\"\"\u001b[0m\u001b[1;33m\u001b[0m\u001b[1;33m\u001b[0m\u001b[0m\n\u001b[1;32m--> 106\u001b[1;33m         return [self.child_node(problem, action)\n\u001b[0m\u001b[0;32m    107\u001b[0m                 for action in problem.actions(self.state)]\n\u001b[0;32m    108\u001b[0m \u001b[1;33m\u001b[0m\u001b[0m\n",
      "\u001b[1;32mc:\\Users\\Madalena\\Desktop\\SI_P1_FINAL\\SI_P1_FINAL (1)\\SI_P1_FINAL\\searchPlus.py\u001b[0m in \u001b[0;36m<listcomp>\u001b[1;34m(.0)\u001b[0m\n\u001b[0;32m    104\u001b[0m     \u001b[1;32mdef\u001b[0m \u001b[0mexpand\u001b[0m\u001b[1;33m(\u001b[0m\u001b[0mself\u001b[0m\u001b[1;33m,\u001b[0m \u001b[0mproblem\u001b[0m\u001b[1;33m)\u001b[0m\u001b[1;33m:\u001b[0m\u001b[1;33m\u001b[0m\u001b[1;33m\u001b[0m\u001b[0m\n\u001b[0;32m    105\u001b[0m         \u001b[1;34m\"\"\"List the nodes reachable in one step from this node.\"\"\"\u001b[0m\u001b[1;33m\u001b[0m\u001b[1;33m\u001b[0m\u001b[0m\n\u001b[1;32m--> 106\u001b[1;33m         return [self.child_node(problem, action)\n\u001b[0m\u001b[0;32m    107\u001b[0m                 for action in problem.actions(self.state)]\n\u001b[0;32m    108\u001b[0m \u001b[1;33m\u001b[0m\u001b[0m\n",
      "\u001b[1;32mc:\\Users\\Madalena\\Desktop\\SI_P1_FINAL\\SI_P1_FINAL (1)\\SI_P1_FINAL\\searchPlus.py\u001b[0m in \u001b[0;36mchild_node\u001b[1;34m(self, problem, action)\u001b[0m\n\u001b[0;32m    109\u001b[0m     \u001b[1;32mdef\u001b[0m \u001b[0mchild_node\u001b[0m\u001b[1;33m(\u001b[0m\u001b[0mself\u001b[0m\u001b[1;33m,\u001b[0m \u001b[0mproblem\u001b[0m\u001b[1;33m,\u001b[0m \u001b[0maction\u001b[0m\u001b[1;33m)\u001b[0m\u001b[1;33m:\u001b[0m\u001b[1;33m\u001b[0m\u001b[1;33m\u001b[0m\u001b[0m\n\u001b[0;32m    110\u001b[0m         \u001b[1;34m\"\"\"[Figure 3.10]\"\"\"\u001b[0m\u001b[1;33m\u001b[0m\u001b[1;33m\u001b[0m\u001b[0m\n\u001b[1;32m--> 111\u001b[1;33m         \u001b[0mnext\u001b[0m \u001b[1;33m=\u001b[0m \u001b[0mproblem\u001b[0m\u001b[1;33m.\u001b[0m\u001b[0mresult\u001b[0m\u001b[1;33m(\u001b[0m\u001b[0mself\u001b[0m\u001b[1;33m.\u001b[0m\u001b[0mstate\u001b[0m\u001b[1;33m,\u001b[0m \u001b[0maction\u001b[0m\u001b[1;33m)\u001b[0m\u001b[1;33m\u001b[0m\u001b[1;33m\u001b[0m\u001b[0m\n\u001b[0m\u001b[0;32m    112\u001b[0m         return Node(next, self, action,\n\u001b[0;32m    113\u001b[0m                     problem.path_cost(self.path_cost, self.state,\n",
      "\u001b[1;32m<ipython-input-5-dc532f2117ca>\u001b[0m in \u001b[0;36mresult\u001b[1;34m(self, state, action)\u001b[0m\n\u001b[0;32m     40\u001b[0m         \u001b[0mnova_pontuacao\u001b[0m \u001b[1;33m=\u001b[0m \u001b[0mstate\u001b[0m\u001b[1;33m.\u001b[0m\u001b[0mpontuacao\u001b[0m\u001b[1;33m\u001b[0m\u001b[1;33m\u001b[0m\u001b[0m\n\u001b[0;32m     41\u001b[0m         \u001b[0mnovas_pastilhas\u001b[0m \u001b[1;33m=\u001b[0m \u001b[0mlist\u001b[0m\u001b[1;33m(\u001b[0m\u001b[0mstate\u001b[0m\u001b[1;33m.\u001b[0m\u001b[0mpastilhas\u001b[0m\u001b[1;33m)\u001b[0m\u001b[1;33m\u001b[0m\u001b[1;33m\u001b[0m\u001b[0m\n\u001b[1;32m---> 42\u001b[1;33m         \u001b[0mposicoes_pastilhas\u001b[0m \u001b[1;33m=\u001b[0m \u001b[0mlist\u001b[0m\u001b[1;33m(\u001b[0m\u001b[0mmap\u001b[0m\u001b[1;33m(\u001b[0m\u001b[1;32mlambda\u001b[0m \u001b[0ml\u001b[0m \u001b[1;33m:\u001b[0m \u001b[0ml\u001b[0m\u001b[1;33m[\u001b[0m\u001b[1;36m0\u001b[0m\u001b[1;33m]\u001b[0m \u001b[1;33m,\u001b[0m \u001b[0mstate\u001b[0m\u001b[1;33m.\u001b[0m\u001b[0mpastilhas\u001b[0m\u001b[1;33m)\u001b[0m\u001b[1;33m)\u001b[0m\u001b[1;33m\u001b[0m\u001b[1;33m\u001b[0m\u001b[0m\n\u001b[0m\u001b[0;32m     43\u001b[0m \u001b[1;33m\u001b[0m\u001b[0m\n\u001b[0;32m     44\u001b[0m         \u001b[1;32mif\u001b[0m \u001b[0mnova_posicao\u001b[0m \u001b[1;32min\u001b[0m \u001b[0mposicoes_pastilhas\u001b[0m\u001b[1;33m:\u001b[0m\u001b[1;33m\u001b[0m\u001b[1;33m\u001b[0m\u001b[0m\n",
      "\u001b[1;31mKeyboardInterrupt\u001b[0m: "
     ]
    }
   ],
   "source": [
    "start = timeit.default_timer()\n",
    "resultado  = depth_first_tree_search(p)\n",
    "print(\"Solução Profundidade-primeiro (árvore) com custo\", str(resultado.path_cost)+\":\")\n",
    "print(resultado.solution())\n",
    "stop = timeit.default_timer()\n",
    "print('Time: ', stop - start)\n",
    "print('Podemos ver o rasto do plano')\n",
    "p.display_trace(p.dim, resultado.solution()) # Porque a diimensão não é sempre 10 e varia"
   ]
  },
  {
   "cell_type": "markdown",
   "id": "2a672e1f",
   "metadata": {},
   "source": [
    "Reparamos que o algoritmo de **profundidade primeiro** na versão árvore, não encontrou uma solução para este problema.\n",
    "\n",
    "Isto acontece porque este não é completo, ou seja, pode ficar preso num loop infinito. É o que acontece neste caso."
   ]
  },
  {
   "cell_type": "markdown",
   "id": "c83b232e",
   "metadata": {},
   "source": [
    "#### Em grafo:"
   ]
  },
  {
   "cell_type": "code",
   "execution_count": 17,
   "id": "89c3770d",
   "metadata": {},
   "outputs": [],
   "source": [
    "def depth_first_graph_search(problem):\n",
    "    \"\"\"Search the deepest nodes in the search tree first.\"\"\"\n",
    "    return graph_search(problem, Stack())"
   ]
  },
  {
   "cell_type": "code",
   "execution_count": 18,
   "id": "d5187dee",
   "metadata": {},
   "outputs": [
    {
     "ename": "KeyboardInterrupt",
     "evalue": "",
     "output_type": "error",
     "traceback": [
      "\u001b[1;31m---------------------------------------------------------------------------\u001b[0m",
      "\u001b[1;31mKeyboardInterrupt\u001b[0m                         Traceback (most recent call last)",
      "\u001b[1;32m<ipython-input-18-abb85996bb8c>\u001b[0m in \u001b[0;36m<module>\u001b[1;34m\u001b[0m\n\u001b[0;32m      1\u001b[0m \u001b[0mstart\u001b[0m \u001b[1;33m=\u001b[0m \u001b[0mtimeit\u001b[0m\u001b[1;33m.\u001b[0m\u001b[0mdefault_timer\u001b[0m\u001b[1;33m(\u001b[0m\u001b[1;33m)\u001b[0m\u001b[1;33m\u001b[0m\u001b[1;33m\u001b[0m\u001b[0m\n\u001b[1;32m----> 2\u001b[1;33m \u001b[0mresultado\u001b[0m \u001b[1;33m=\u001b[0m \u001b[0mdepth_first_graph_search\u001b[0m\u001b[1;33m(\u001b[0m\u001b[0mp\u001b[0m\u001b[1;33m)\u001b[0m\u001b[1;33m\u001b[0m\u001b[1;33m\u001b[0m\u001b[0m\n\u001b[0m\u001b[0;32m      3\u001b[0m \u001b[0mprint\u001b[0m\u001b[1;33m(\u001b[0m\u001b[1;34m\"Solução Profundidade-primeiro (grafo) com custo\"\u001b[0m\u001b[1;33m,\u001b[0m \u001b[0mstr\u001b[0m\u001b[1;33m(\u001b[0m\u001b[0mresultado\u001b[0m\u001b[1;33m.\u001b[0m\u001b[0mpath_cost\u001b[0m\u001b[1;33m)\u001b[0m\u001b[1;33m+\u001b[0m\u001b[1;34m\":\"\u001b[0m\u001b[1;33m)\u001b[0m\u001b[1;33m\u001b[0m\u001b[1;33m\u001b[0m\u001b[0m\n\u001b[0;32m      4\u001b[0m \u001b[0mprint\u001b[0m\u001b[1;33m(\u001b[0m\u001b[0mresultado\u001b[0m\u001b[1;33m.\u001b[0m\u001b[0msolution\u001b[0m\u001b[1;33m(\u001b[0m\u001b[1;33m)\u001b[0m\u001b[1;33m)\u001b[0m\u001b[1;33m\u001b[0m\u001b[1;33m\u001b[0m\u001b[0m\n\u001b[0;32m      5\u001b[0m \u001b[0mstop\u001b[0m \u001b[1;33m=\u001b[0m \u001b[0mtimeit\u001b[0m\u001b[1;33m.\u001b[0m\u001b[0mdefault_timer\u001b[0m\u001b[1;33m(\u001b[0m\u001b[1;33m)\u001b[0m\u001b[1;33m\u001b[0m\u001b[1;33m\u001b[0m\u001b[0m\n",
      "\u001b[1;32m<ipython-input-17-5d370141c70d>\u001b[0m in \u001b[0;36mdepth_first_graph_search\u001b[1;34m(problem)\u001b[0m\n\u001b[0;32m      1\u001b[0m \u001b[1;32mdef\u001b[0m \u001b[0mdepth_first_graph_search\u001b[0m\u001b[1;33m(\u001b[0m\u001b[0mproblem\u001b[0m\u001b[1;33m)\u001b[0m\u001b[1;33m:\u001b[0m\u001b[1;33m\u001b[0m\u001b[1;33m\u001b[0m\u001b[0m\n\u001b[0;32m      2\u001b[0m     \u001b[1;34m\"\"\"Search the deepest nodes in the search tree first.\"\"\"\u001b[0m\u001b[1;33m\u001b[0m\u001b[1;33m\u001b[0m\u001b[0m\n\u001b[1;32m----> 3\u001b[1;33m     \u001b[1;32mreturn\u001b[0m \u001b[0mgraph_search\u001b[0m\u001b[1;33m(\u001b[0m\u001b[0mproblem\u001b[0m\u001b[1;33m,\u001b[0m \u001b[0mStack\u001b[0m\u001b[1;33m(\u001b[0m\u001b[1;33m)\u001b[0m\u001b[1;33m)\u001b[0m\u001b[1;33m\u001b[0m\u001b[1;33m\u001b[0m\u001b[0m\n\u001b[0m",
      "\u001b[1;32mc:\\Users\\Madalena\\Desktop\\SI_P1_FINAL\\SI_P1_FINAL (1)\\SI_P1_FINAL\\searchPlus.py\u001b[0m in \u001b[0;36mgraph_search\u001b[1;34m(problem, frontier)\u001b[0m\n\u001b[0;32m    203\u001b[0m             \u001b[1;32mreturn\u001b[0m \u001b[0mnode\u001b[0m\u001b[1;33m\u001b[0m\u001b[1;33m\u001b[0m\u001b[0m\n\u001b[0;32m    204\u001b[0m         \u001b[0mexplored\u001b[0m\u001b[1;33m.\u001b[0m\u001b[0madd\u001b[0m\u001b[1;33m(\u001b[0m\u001b[0mnode\u001b[0m\u001b[1;33m.\u001b[0m\u001b[0mstate\u001b[0m\u001b[1;33m)\u001b[0m\u001b[1;33m\u001b[0m\u001b[1;33m\u001b[0m\u001b[0m\n\u001b[1;32m--> 205\u001b[1;33m         frontier.extend(child for child in node.expand(problem)\n\u001b[0m\u001b[0;32m    206\u001b[0m                         \u001b[1;32mif\u001b[0m \u001b[0mchild\u001b[0m\u001b[1;33m.\u001b[0m\u001b[0mstate\u001b[0m \u001b[1;32mnot\u001b[0m \u001b[1;32min\u001b[0m \u001b[0mexplored\u001b[0m \u001b[1;32mand\u001b[0m\u001b[1;33m\u001b[0m\u001b[1;33m\u001b[0m\u001b[0m\n\u001b[0;32m    207\u001b[0m                         child not in frontier)\n",
      "\u001b[1;32mc:\\Users\\Madalena\\Desktop\\SI_P1_FINAL\\SI_P1_FINAL (1)\\SI_P1_FINAL\\searchPlus.py\u001b[0m in \u001b[0;36m<genexpr>\u001b[1;34m(.0)\u001b[0m\n\u001b[0;32m    205\u001b[0m         frontier.extend(child for child in node.expand(problem)\n\u001b[0;32m    206\u001b[0m                         \u001b[1;32mif\u001b[0m \u001b[0mchild\u001b[0m\u001b[1;33m.\u001b[0m\u001b[0mstate\u001b[0m \u001b[1;32mnot\u001b[0m \u001b[1;32min\u001b[0m \u001b[0mexplored\u001b[0m \u001b[1;32mand\u001b[0m\u001b[1;33m\u001b[0m\u001b[1;33m\u001b[0m\u001b[0m\n\u001b[1;32m--> 207\u001b[1;33m                         child not in frontier)\n\u001b[0m\u001b[0;32m    208\u001b[0m     \u001b[1;32mreturn\u001b[0m \u001b[1;32mNone\u001b[0m\u001b[1;33m\u001b[0m\u001b[1;33m\u001b[0m\u001b[0m\n\u001b[0;32m    209\u001b[0m \u001b[1;33m\u001b[0m\u001b[0m\n",
      "\u001b[1;32mc:\\Users\\Madalena\\Desktop\\SI_P1_FINAL\\SI_P1_FINAL (1)\\SI_P1_FINAL\\searchPlus.py\u001b[0m in \u001b[0;36m__eq__\u001b[1;34m(self, other)\u001b[0m\n\u001b[0;32m    132\u001b[0m \u001b[1;33m\u001b[0m\u001b[0m\n\u001b[0;32m    133\u001b[0m     \u001b[1;32mdef\u001b[0m \u001b[0m__eq__\u001b[0m\u001b[1;33m(\u001b[0m\u001b[0mself\u001b[0m\u001b[1;33m,\u001b[0m \u001b[0mother\u001b[0m\u001b[1;33m)\u001b[0m\u001b[1;33m:\u001b[0m\u001b[1;33m\u001b[0m\u001b[1;33m\u001b[0m\u001b[0m\n\u001b[1;32m--> 134\u001b[1;33m         \u001b[1;32mreturn\u001b[0m \u001b[0misinstance\u001b[0m\u001b[1;33m(\u001b[0m\u001b[0mother\u001b[0m\u001b[1;33m,\u001b[0m \u001b[0mNode\u001b[0m\u001b[1;33m)\u001b[0m \u001b[1;32mand\u001b[0m \u001b[0mself\u001b[0m\u001b[1;33m.\u001b[0m\u001b[0mstate\u001b[0m \u001b[1;33m==\u001b[0m \u001b[0mother\u001b[0m\u001b[1;33m.\u001b[0m\u001b[0mstate\u001b[0m\u001b[1;33m\u001b[0m\u001b[1;33m\u001b[0m\u001b[0m\n\u001b[0m\u001b[0;32m    135\u001b[0m \u001b[1;33m\u001b[0m\u001b[0m\n\u001b[0;32m    136\u001b[0m     \u001b[1;32mdef\u001b[0m \u001b[0m__hash__\u001b[0m\u001b[1;33m(\u001b[0m\u001b[0mself\u001b[0m\u001b[1;33m)\u001b[0m\u001b[1;33m:\u001b[0m\u001b[1;33m\u001b[0m\u001b[1;33m\u001b[0m\u001b[0m\n",
      "\u001b[1;32m<ipython-input-3-aa1dfde2ae63>\u001b[0m in \u001b[0;36m__eq__\u001b[1;34m(self, other)\u001b[0m\n\u001b[0;32m     13\u001b[0m         \u001b[0mNecessário\u001b[0m \u001b[0mpara\u001b[0m \u001b[0mos\u001b[0m \u001b[0malgoritmos\u001b[0m \u001b[0mde\u001b[0m \u001b[0mprocura\u001b[0m \u001b[0mem\u001b[0m \u001b[0mgrafo\u001b[0m\u001b[1;33m.\u001b[0m\u001b[1;33m\u001b[0m\u001b[1;33m\u001b[0m\u001b[0m\n\u001b[0;32m     14\u001b[0m         \"\"\"\n\u001b[1;32m---> 15\u001b[1;33m         \u001b[1;32mreturn\u001b[0m \u001b[0mself\u001b[0m\u001b[1;33m.\u001b[0m\u001b[0mposicao\u001b[0m \u001b[1;33m==\u001b[0m \u001b[0mother\u001b[0m\u001b[1;33m.\u001b[0m\u001b[0mposicao\u001b[0m \u001b[1;32mand\u001b[0m\u001b[0;31m \u001b[0m\u001b[0;31m\\\u001b[0m\u001b[1;33m\u001b[0m\u001b[1;33m\u001b[0m\u001b[0m\n\u001b[0m\u001b[0;32m     16\u001b[0m             \u001b[0mself\u001b[0m\u001b[1;33m.\u001b[0m\u001b[0mpastilhas\u001b[0m \u001b[1;33m==\u001b[0m \u001b[0mother\u001b[0m\u001b[1;33m.\u001b[0m\u001b[0mpastilhas\u001b[0m \u001b[1;32mand\u001b[0m\u001b[0;31m \u001b[0m\u001b[0;31m\\\u001b[0m\u001b[1;33m\u001b[0m\u001b[1;33m\u001b[0m\u001b[0m\n\u001b[0;32m     17\u001b[0m             \u001b[0mself\u001b[0m\u001b[1;33m.\u001b[0m\u001b[0mpontuacao\u001b[0m \u001b[1;33m==\u001b[0m \u001b[0mother\u001b[0m\u001b[1;33m.\u001b[0m\u001b[0mpontuacao\u001b[0m \u001b[1;32mand\u001b[0m\u001b[0;31m \u001b[0m\u001b[0;31m\\\u001b[0m\u001b[1;33m\u001b[0m\u001b[1;33m\u001b[0m\u001b[0m\n",
      "\u001b[1;31mKeyboardInterrupt\u001b[0m: "
     ]
    }
   ],
   "source": [
    "start = timeit.default_timer()\n",
    "resultado = depth_first_graph_search(p)\n",
    "print(\"Solução Profundidade-primeiro (grafo) com custo\", str(resultado.path_cost)+\":\")\n",
    "print(resultado.solution())\n",
    "stop = timeit.default_timer()\n",
    "print('Time: ', stop - start)\n",
    "print('Podemos ver o rasto do plano')\n",
    "p.display_trace(p.dim,resultado.solution())"
   ]
  },
  {
   "cell_type": "markdown",
   "id": "49f81d95",
   "metadata": {},
   "source": [
    "Reparamos que, também neste algoritmo, não é possível encontrar uma solução para o problema.\n",
    "\n",
    "Neste caso, não é possível encontrar a solução porque ao comparar dois estados nunca irão existir dois exatamente iguais, uma vez que o custo irá ser sempre diferente em ambos."
   ]
  },
  {
   "cell_type": "markdown",
   "id": "38417397",
   "metadata": {},
   "source": [
    "### Largura-primeiro\n",
    "\n",
    "#### Em árvore"
   ]
  },
  {
   "cell_type": "code",
   "execution_count": 19,
   "id": "88e93b1b",
   "metadata": {},
   "outputs": [],
   "source": [
    "def breadth_first_tree_search(problem):\n",
    "    \"\"\"Search the shallowest nodes in the search tree first.\"\"\"\n",
    "    return tree_search(problem, FIFOQueue())"
   ]
  },
  {
   "cell_type": "code",
   "execution_count": 20,
   "id": "95ca4ccf",
   "metadata": {},
   "outputs": [
    {
     "name": "stdout",
     "output_type": "stream",
     "text": [
      "Solução Largura-primeiro (árvore) com custo 11:\n",
      "['S', 'S', 'S', 'S', 'S', 'S', 'E', 'E', 'N', 'N', 'E']\n",
      "Time:  0.5311269000000038\n",
      "Podemos ver o rasto do plano\n",
      " =  =  =  =  =  =  =  =  =  = \n",
      " =  @  N  .  .  .  .  .  .  = \n",
      " =  +  =  =  =  =  =  =  .  = \n",
      " =  +  =  .  .  .  .  C  .  = \n",
      " =  +  =  .  .  .  .  .  .  = \n",
      " =  +  =  +  *  .  .  .  .  = \n",
      " =  +  =  +  .  .  .  .  .  = \n",
      " =  +  +  +  .  .  .  .  .  = \n",
      " =  .  .  .  .  .  .  .  D  = \n",
      " =  =  =  =  =  =  =  =  =  = \n"
     ]
    }
   ],
   "source": [
    "start = timeit.default_timer()\n",
    "resultado = breadth_first_tree_search(p)\n",
    "print(\"Solução Largura-primeiro (árvore) com custo\", str(resultado.path_cost)+\":\")\n",
    "print(resultado.solution())\n",
    "stop = timeit.default_timer()\n",
    "print('Time: ', stop - start)\n",
    "print('Podemos ver o rasto do plano')\n",
    "p.display_trace(p.dim,resultado.solution())"
   ]
  },
  {
   "cell_type": "markdown",
   "id": "0b3ac4c0",
   "metadata": {},
   "source": [
    "#### Em grafo:"
   ]
  },
  {
   "cell_type": "code",
   "execution_count": 21,
   "id": "7049d45b",
   "metadata": {},
   "outputs": [],
   "source": [
    "def breadth_first_graph_search(problem):\n",
    "    \"\"\"Search the deepest nodes in the search tree first.\"\"\"\n",
    "    return graph_search(problem, FIFOQueue())"
   ]
  },
  {
   "cell_type": "code",
   "execution_count": 22,
   "id": "28c91272",
   "metadata": {},
   "outputs": [
    {
     "name": "stdout",
     "output_type": "stream",
     "text": [
      "Solução Largura-primeiro (grafo) com custo 11:\n",
      "['S', 'S', 'S', 'S', 'S', 'S', 'E', 'E', 'N', 'N', 'E']\n",
      "Time:  4.419901399999993\n",
      "Podemos ver o rasto do plano\n",
      " =  =  =  =  =  =  =  =  =  = \n",
      " =  @  N  .  .  .  .  .  .  = \n",
      " =  +  =  =  =  =  =  =  .  = \n",
      " =  +  =  .  .  .  .  C  .  = \n",
      " =  +  =  .  .  .  .  .  .  = \n",
      " =  +  =  +  *  .  .  .  .  = \n",
      " =  +  =  +  .  .  .  .  .  = \n",
      " =  +  +  +  .  .  .  .  .  = \n",
      " =  .  .  .  .  .  .  .  D  = \n",
      " =  =  =  =  =  =  =  =  =  = \n"
     ]
    }
   ],
   "source": [
    "start = timeit.default_timer()\n",
    "resultado = breadth_first_graph_search(p)\n",
    "print(\"Solução Largura-primeiro (grafo) com custo\", str(resultado.path_cost)+\":\")\n",
    "print(resultado.solution())\n",
    "stop = timeit.default_timer()\n",
    "print('Time: ', stop - start)\n",
    "print('Podemos ver o rasto do plano')\n",
    "p.display_trace(p.dim,resultado.solution())"
   ]
  },
  {
   "cell_type": "markdown",
   "id": "79388794",
   "metadata": {},
   "source": [
    "No algoritmo de **Largura Primeiro**, é possivel observar que a procura em árvore é mais rápida que a procura em grafo. Isto acontece porque, o algoritmo da largura em grafo é mais complexo, porém se se tratassem de tabuleiros mais complicados a procura em grafo teria um melhor resultado, pois esta descarta as possibilidades que já foram expandidas.\n",
    "\n",
    "Ainda assim, ao contrário dos algoritmos de profundidade primeiro, o algoritmo de largura primeiro consegue encontrar uma solução por ser um algortimo completo."
   ]
  },
  {
   "cell_type": "markdown",
   "id": "3961d382",
   "metadata": {},
   "source": [
    "### Aprofundamento progressivo\n",
    "\n",
    "#### Em árvore:"
   ]
  },
  {
   "cell_type": "code",
   "execution_count": 23,
   "id": "fce5e950",
   "metadata": {},
   "outputs": [],
   "source": [
    "def iterative_deepening_search(problem):\n",
    "    for depth in range(sys.maxsize):\n",
    "        result = depth_limited_search(problem, depth)\n",
    "        if result != 'cutoff':\n",
    "            return result"
   ]
  },
  {
   "cell_type": "code",
   "execution_count": 24,
   "id": "be85fede",
   "metadata": {},
   "outputs": [
    {
     "name": "stdout",
     "output_type": "stream",
     "text": [
      "Solução Aprofundamento-progressivo (árvore) com custo 11:\n",
      "['S', 'S', 'S', 'S', 'S', 'S', 'E', 'E', 'N', 'N', 'E']\n",
      "Time:  0.03249859999999671\n",
      "Podemos ver o rasto do plano\n",
      " =  =  =  =  =  =  =  =  =  = \n",
      " =  @  N  .  .  .  .  .  .  = \n",
      " =  +  =  =  =  =  =  =  .  = \n",
      " =  +  =  .  .  .  .  C  .  = \n",
      " =  +  =  .  .  .  .  .  .  = \n",
      " =  +  =  +  *  .  .  .  .  = \n",
      " =  +  =  +  .  .  .  .  .  = \n",
      " =  +  +  +  .  .  .  .  .  = \n",
      " =  .  .  .  .  .  .  .  D  = \n",
      " =  =  =  =  =  =  =  =  =  = \n"
     ]
    }
   ],
   "source": [
    "start = timeit.default_timer()\n",
    "resultado = iterative_deepening_search(p)\n",
    "print(\"Solução Aprofundamento-progressivo (árvore) com custo\", str(resultado.path_cost)+\":\")\n",
    "print(resultado.solution())\n",
    "stop = timeit.default_timer()\n",
    "print('Time: ', stop - start)\n",
    "print('Podemos ver o rasto do plano')\n",
    "p.display_trace(p.dim,resultado.solution())"
   ]
  },
  {
   "cell_type": "markdown",
   "id": "101b8a0e",
   "metadata": {},
   "source": [
    "#### Em grafo:"
   ]
  },
  {
   "cell_type": "code",
   "execution_count": 25,
   "id": "fc36fe03",
   "metadata": {},
   "outputs": [],
   "source": [
    "def graph_limited_search(problem, frontier,lim):\n",
    "    \"\"\"Search through the successors of a problem to find a goal.\n",
    "    The argument frontier should be an empty queue.\n",
    "    \"\"\"\n",
    "    frontier.append(Node(problem.initial))\n",
    "    explored = set()\n",
    "    while frontier:\n",
    "        node = frontier.pop()\n",
    "        if problem.goal_test(node.state):\n",
    "            return node\n",
    "        explored.add(node.state)\n",
    "        if node.depth < lim:\n",
    "            frontier.extend(child for child in node.expand(problem)\n",
    "                        if child.state not in explored and\n",
    "                        child not in frontier)\n",
    "    return 'cutoff'\n",
    "\n",
    "def depth_limited_graph_search(problem, depth):\n",
    "    return graph_limited_search(problem,Stack(),depth)\n",
    "\n",
    "def iterative_deepening_plus_graph_search(problem):\n",
    "    for depth in range(sys.maxsize):\n",
    "        result = depth_limited_graph_search(problem, depth)\n",
    "        if result != 'cutoff':\n",
    "            return result"
   ]
  },
  {
   "cell_type": "code",
   "execution_count": 26,
   "id": "314e665f",
   "metadata": {},
   "outputs": [
    {
     "name": "stdout",
     "output_type": "stream",
     "text": [
      "Solução aprofundamento progressivo (grafo) com custo 11:\n",
      "['S', 'S', 'S', 'S', 'S', 'S', 'E', 'E', 'E', 'N', 'N']\n",
      "Time:  0.0613101999999941\n",
      "Podemos ver o rasto do plano\n",
      " =  =  =  =  =  =  =  =  =  = \n",
      " =  @  N  .  .  .  .  .  .  = \n",
      " =  +  =  =  =  =  =  =  .  = \n",
      " =  +  =  .  .  .  .  C  .  = \n",
      " =  +  =  .  .  .  .  .  .  = \n",
      " =  +  =  .  *  .  .  .  .  = \n",
      " =  +  =  .  +  .  .  .  .  = \n",
      " =  +  +  +  +  .  .  .  .  = \n",
      " =  .  .  .  .  .  .  .  D  = \n",
      " =  =  =  =  =  =  =  =  =  = \n"
     ]
    }
   ],
   "source": [
    "start = timeit.default_timer()\n",
    "resultado = iterative_deepening_plus_graph_search(p)\n",
    "print(\"Solução aprofundamento progressivo (grafo) com custo\", str(resultado.path_cost)+\":\")\n",
    "print(resultado.solution())\n",
    "stop = timeit.default_timer()\n",
    "print('Time: ', stop - start)\n",
    "print('Podemos ver o rasto do plano')\n",
    "p.display_trace(p.dim,resultado.solution())"
   ]
  },
  {
   "cell_type": "markdown",
   "id": "c2ad3aad",
   "metadata": {},
   "source": [
    "Este algoritmo apresenta caminhos diferentes em árvore e em grafo. Isso deve-se ao facto dos nós não serem revisitados."
   ]
  },
  {
   "cell_type": "markdown",
   "id": "52bf71b3",
   "metadata": {},
   "source": [
    "### Custo uniforme\n",
    "\n",
    "O algoritmo do custo uniforme é aquele que independentemente da sua execução ser em árvore ou em grafo, encontra sempre a **solução ótima**.\n",
    "\n",
    "#### Em árvore:\n",
    "Tentámos fazer uma implementação da procura em árvore de modo a conseguir comparar com o grafo, porém não sabemos se o raciocínio foi bem feito.\n",
    "Uma vez que a grande diferença entre os algoritmos em grafo e em árvore é o uso dos nós expandidos e visitados, retirámos o **expanded** de modo a poder ver revisitas e re-expansões dos nós."
   ]
  },
  {
   "cell_type": "code",
   "execution_count": 27,
   "id": "3f448f45",
   "metadata": {},
   "outputs": [],
   "source": [
    "def best_first_tree_search(problem, f):\n",
    "    f = memoize(f, 'f')\n",
    "    node = Node(problem.initial)\n",
    "    if problem.goal_test(node.state):\n",
    "        return node\n",
    "    frontier = PriorityQueue(min, f)\n",
    "    frontier.append(node)\n",
    "    while frontier:\n",
    "        node = frontier.pop()\n",
    "        if problem.goal_test(node.state):\n",
    "            return node\n",
    "        for child in node.expand(problem):\n",
    "            if child not in frontier:\n",
    "                frontier.append(child)\n",
    "            elif child in frontier:\n",
    "                incumbent = frontier[child]\n",
    "                if f(child) < f(incumbent):\n",
    "                    del frontier[incumbent]\n",
    "                    frontier.append(child)\n",
    "    return None\n",
    "\n",
    "def uniform_cost_tree_search(problem):\n",
    "    return best_first_tree_search(problem, lambda node: node.path_cost)\n"
   ]
  },
  {
   "cell_type": "code",
   "execution_count": 28,
   "id": "7155e348",
   "metadata": {},
   "outputs": [
    {
     "name": "stdout",
     "output_type": "stream",
     "text": [
      "Solução Custo-uniforme (árvore) com custo 11:\n",
      "['S', 'S', 'S', 'S', 'S', 'S', 'E', 'E', 'E', 'N', 'N']\n",
      "Time:  0.06658400000000597\n",
      "Podemos ver o rasto do plano\n",
      " =  =  =  =  =  =  =  =  =  = \n",
      " =  @  N  .  .  .  .  .  .  = \n",
      " =  +  =  =  =  =  =  =  .  = \n",
      " =  +  =  .  .  .  .  C  .  = \n",
      " =  +  =  .  .  .  .  .  .  = \n",
      " =  +  =  .  *  .  .  .  .  = \n",
      " =  +  =  .  +  .  .  .  .  = \n",
      " =  +  +  +  +  .  .  .  .  = \n",
      " =  .  .  .  .  .  .  .  D  = \n",
      " =  =  =  =  =  =  =  =  =  = \n"
     ]
    }
   ],
   "source": [
    "start = timeit.default_timer()\n",
    "resultado = uniform_cost_tree_search(p)\n",
    "print(\"Solução Custo-uniforme (árvore) com custo\", str(resultado.path_cost)+\":\")\n",
    "print(resultado.solution())\n",
    "stop = timeit.default_timer()\n",
    "print('Time: ', stop - start)\n",
    "print('Podemos ver o rasto do plano')\n",
    "p.display_trace(p.dim,resultado.solution())"
   ]
  },
  {
   "cell_type": "markdown",
   "id": "3f8b968b",
   "metadata": {},
   "source": [
    "#### Em grafo: "
   ]
  },
  {
   "cell_type": "code",
   "execution_count": 29,
   "id": "c314ffa3",
   "metadata": {},
   "outputs": [],
   "source": [
    "def uniform_cost_search(problem):\n",
    "    return best_first_graph_search(problem, lambda node: node.path_cost)"
   ]
  },
  {
   "cell_type": "code",
   "execution_count": 30,
   "id": "8398bf11",
   "metadata": {},
   "outputs": [
    {
     "name": "stdout",
     "output_type": "stream",
     "text": [
      "Solução Custo-uniforme (grafo) com custo 11:\n",
      "['S', 'S', 'S', 'S', 'S', 'S', 'E', 'E', 'E', 'N', 'N']\n",
      "Time:  0.06810519999999087\n",
      "Podemos ver o rasto do plano\n",
      " =  =  =  =  =  =  =  =  =  = \n",
      " =  @  N  .  .  .  .  .  .  = \n",
      " =  +  =  =  =  =  =  =  .  = \n",
      " =  +  =  .  .  .  .  C  .  = \n",
      " =  +  =  .  .  .  .  .  .  = \n",
      " =  +  =  .  *  .  .  .  .  = \n",
      " =  +  =  .  +  .  .  .  .  = \n",
      " =  +  +  +  +  .  .  .  .  = \n",
      " =  .  .  .  .  .  .  .  D  = \n",
      " =  =  =  =  =  =  =  =  =  = \n"
     ]
    }
   ],
   "source": [
    "start = timeit.default_timer()\n",
    "resultado = uniform_cost_search(p)\n",
    "print(\"Solução Custo-uniforme (grafo) com custo\", str(resultado.path_cost)+\":\")\n",
    "print(resultado.solution())\n",
    "stop = timeit.default_timer()\n",
    "print('Time: ', stop - start)\n",
    "print('Podemos ver o rasto do plano')\n",
    "p.display_trace(p.dim,resultado.solution())"
   ]
  },
  {
   "cell_type": "markdown",
   "id": "f348e0e2",
   "metadata": {},
   "source": [
    "Podemos reparar que o algoritmo ignora por completo a pastilha que se encontra a **E** (à direita) quando está na posição inicial pois isso implicaria aumentar em 3 o custo e de forma desnecessária visto que existe um caminho com menor custo que atinge também a pontuação final.\n",
    "É de notar que se alterármos o goal para 13 este deixaria de ser o caminho ótimo visto que não chegaria à pontuação desejada.\n",
    "Portanto ele optaria, como podemos ver a seguir por outro caminho"
   ]
  },
  {
   "cell_type": "code",
   "execution_count": 32,
   "id": "61f9e6ef",
   "metadata": {},
   "outputs": [
    {
     "name": "stdout",
     "output_type": "stream",
     "text": [
      " =  =  =  =  =  =  =  =  =  = \n",
      " =  @  N  .  .  .  .  .  .  = \n",
      " =  .  =  =  =  =  =  =  .  = \n",
      " =  .  =  .  .  .  .  C  .  = \n",
      " =  .  =  .  .  .  .  .  .  = \n",
      " =  .  =  .  C  .  .  .  .  = \n",
      " =  .  =  .  .  .  .  .  .  = \n",
      " =  .  .  N  .  .  .  .  .  = \n",
      " =  .  .  .  .  .  .  .  D  = \n",
      " =  =  =  =  =  =  =  =  =  = \n",
      "Solução Custo-uniforme (grafo) com custo 12:\n",
      "['S', 'N', 'E', 'E', 'E', 'E', 'E', 'E', 'E', 'S', 'S', 'O']\n",
      "Time:  0.2919459999999958\n",
      "Podemos ver o rasto do plano\n",
      " =  =  =  =  =  =  =  =  =  = \n",
      " =  @  +  +  +  +  +  +  +  = \n",
      " =  +  =  =  =  =  =  =  +  = \n",
      " =  .  =  .  .  .  .  *  +  = \n",
      " =  .  =  .  .  .  .  .  .  = \n",
      " =  .  =  .  C  .  .  .  .  = \n",
      " =  .  =  .  .  .  .  .  .  = \n",
      " =  .  .  N  .  .  .  .  .  = \n",
      " =  .  .  .  .  .  .  .  D  = \n",
      " =  =  =  =  =  =  =  =  =  = \n"
     ]
    }
   ],
   "source": [
    "p = PacmanPastilhas(pacman=(1,1),goal=13,pastilhas=pastilhas,obstacles=fronteira | l | c ,dim=10)\n",
    "p.display(p.initial)\n",
    "\n",
    "start = timeit.default_timer()\n",
    "resultado = uniform_cost_search(p)\n",
    "print(\"Solução Custo-uniforme (grafo) com custo\", str(resultado.path_cost)+\":\")\n",
    "print(resultado.solution())\n",
    "stop = timeit.default_timer()\n",
    "print('Time: ', stop - start)\n",
    "print('Podemos ver o rasto do plano')\n",
    "p.display_trace(p.dim,resultado.solution())"
   ]
  },
  {
   "cell_type": "markdown",
   "id": "f9d4844f",
   "metadata": {},
   "source": [
    "Indo uma casa para baixo para aumentar o valor da pastilha de crescimento e assim atingir o objetivo"
   ]
  }
 ],
 "metadata": {
  "kernelspec": {
   "display_name": "Python 3",
   "language": "python",
   "name": "python3"
  },
  "language_info": {
   "codemirror_mode": {
    "name": "ipython",
    "version": 3
   },
   "file_extension": ".py",
   "mimetype": "text/x-python",
   "name": "python",
   "nbconvert_exporter": "python",
   "pygments_lexer": "ipython3",
   "version": "3.8.3"
  }
 },
 "nbformat": 4,
 "nbformat_minor": 5
}
